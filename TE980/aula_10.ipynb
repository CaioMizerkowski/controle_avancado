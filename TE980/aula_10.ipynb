{
 "cells": [
  {
   "cell_type": "markdown",
   "metadata": {},
   "source": [
    "# Vector Fitting (VF)\n",
    "Equivalente a representação polinomial\n",
    "$$\\frac{B(s)}{A(S)} = c_0 + \\sum\\limits_{k=1}^{n} \\frac{c_i}{S-p_i}$$\n",
    "Um exemplo:\n",
    "$$\n",
    "G(S) = \\frac{2S}{1+2S+6S^2} = c_0 + \\frac{c_1}{S-p_1} + \\frac{c_2}{S-p_2} = \\sum\\limits_{k=1}^{2} \\frac{c_i}{S-p_i}\n",
    "$$\n",
    "Aonde:\n",
    "- $c_0 = 0$\n",
    "- $c_1 = c_2^*$\n",
    "- $c_1 = 0.167+j0.0745$\n",
    "- $p_1 = p_2*$\n",
    "- $p_1 = -0.167-j0.37$\n",
    "\n",
    "O comando no matlab para retirar os valores é:\n",
    "```matlab\n",
    "[c, p, c0] = residue(A, B) = residue([2 0], [6 2 1])\n",
    "```\n",
    "\n",
    "$$\n",
    "\n",
    "$$\n",
    "\n",
    "Devo selecionar quantas fracções parciais teram o modelo: n\n",
    "\n",
    "Determinar o número máximo de iterações: L\n",
    "\n",
    "Tem nas vídeo aulas."
   ]
  },
  {
   "cell_type": "code",
   "execution_count": 7,
   "metadata": {},
   "outputs": [],
   "source": [
    "import scipy.signal as sig"
   ]
  },
  {
   "cell_type": "code",
   "execution_count": 10,
   "metadata": {},
   "outputs": [
    {
     "data": {
      "text/plain": [
       "(array([0.5]), array([0.]), array([3., 1.]))"
      ]
     },
     "execution_count": 10,
     "metadata": {},
     "output_type": "execute_result"
    }
   ],
   "source": [
    "b = [6, 2, 1]\n",
    "a = [2, 0]\n",
    "sig.residue(b, a, tol = 0.0000001)"
   ]
  },
  {
   "cell_type": "code",
   "execution_count": 30,
   "metadata": {},
   "outputs": [
    {
     "data": {
      "image/png": "[encoded data removed]",
      "text/latex": [
       "$\\displaystyle \\frac{2 s}{6 s^{2} + 2 s + 1}$"
      ],
      "text/plain": [
       "     2⋅s      \n",
       "──────────────\n",
       "   2          \n",
       "6⋅s  + 2⋅s + 1"
      ]
     },
     "execution_count": 30,
     "metadata": {},
     "output_type": "execute_result"
    }
   ],
   "source": [
    "import sympy \n",
    "sympy.init_printing()\n",
    "s = sympy.symbols('s')\n",
    "G = (2*s) / (6*s**2 + 2*s + 1)"
   ]
  },
  {
   "cell_type": "code",
   "execution_count": 33,
   "metadata": {},
   "outputs": [
    {
     "data": {
      "image/png": "[encoded data removed]",
      "text/latex": [
       "$\\displaystyle \\frac{\\frac{1}{6} - \\frac{\\sqrt{5} i}{30}}{s + \\frac{1}{6} + \\frac{\\sqrt{5} i}{6}} + \\frac{\\frac{1}{6} + \\frac{\\sqrt{5} i}{30}}{s + \\frac{1}{6} - \\frac{\\sqrt{5} i}{6}}$"
      ],
      "text/plain": [
       "  1   √5⋅ⅈ       1   √5⋅ⅈ  \n",
       "  ─ - ────       ─ + ────  \n",
       "  6    30        6    30   \n",
       "──────────── + ────────────\n",
       "    1   √5⋅ⅈ       1   √5⋅ⅈ\n",
       "s + ─ + ────   s + ─ - ────\n",
       "    6    6         6    6  "
      ]
     },
     "execution_count": 33,
     "metadata": {},
     "output_type": "execute_result"
    }
   ],
   "source": [
    "G = sympy.apart(G, full=True).doit()"
   ]
  },
  {
   "cell_type": "code",
   "execution_count": 35,
   "metadata": {},
   "outputs": [
    {
     "data": {
      "image/png": "[encoded data removed]",
      "text/latex": [
       "$\\displaystyle \\frac{2 s}{6 s^{2} + 2 s + 1}$"
      ],
      "text/plain": [
       "     2⋅s      \n",
       "──────────────\n",
       "   2          \n",
       "6⋅s  + 2⋅s + 1"
      ]
     },
     "execution_count": 35,
     "metadata": {},
     "output_type": "execute_result"
    }
   ],
   "source": [
    "G.simplify()"
   ]
  },
  {
   "cell_type": "code",
   "execution_count": 38,
   "metadata": {},
   "outputs": [
    {
     "data": {
      "image/png": "[encoded data removed]",
      "text/latex": [
       "$\\displaystyle \\frac{0.3333 s + 4.768 \\cdot 10^{-7}}{1.0 s^{2} + 0.3333 s + 0.1667}$"
      ],
      "text/plain": [
       "   0.3333⋅s + 4.768e-7    \n",
       "──────────────────────────\n",
       "     2                    \n",
       "1.0⋅s  + 0.3333⋅s + 0.1667"
      ]
     },
     "execution_count": 38,
     "metadata": {},
     "output_type": "execute_result"
    }
   ],
   "source": [
    "G.evalf(4).simplify()"
   ]
  },
  {
   "cell_type": "markdown",
   "metadata": {},
   "source": [
    "## Exercicio\n",
    "Prove que:\n",
    "$$\\frac{0.167+j0.0745}{S-(-0.167+j0.37)}+\\frac{0.167-j0.0745}{S-(-0.167-j0.37)} = \\frac{2S}{1+2S+6S^2}$$\n",
    "\n"
   ]
  },
  {
   "cell_type": "code",
   "execution_count": 47,
   "metadata": {},
   "outputs": [
    {
     "data": {
      "image/png": "[encoded data removed]",
      "text/latex": [
       "$\\displaystyle \\frac{0.334 s + 0.00064800000000001}{1.0 s^{2} + 0.334 s + 0.164789}$"
      ],
      "text/plain": [
       "0.334⋅s + 0.00064800000000001\n",
       "─────────────────────────────\n",
       "      2                      \n",
       " 1.0⋅s  + 0.334⋅s + 0.164789 "
      ]
     },
     "execution_count": 47,
     "metadata": {},
     "output_type": "execute_result"
    }
   ],
   "source": [
    "s = sympy.symbols('s')\n",
    "G = (0.167+1j*0.0745)/(s-(-0.167+1j*0.37))+(0.167-1j*0.0745)/(s-(-0.167-1j*0.37))\n",
    "G.simplify()"
   ]
  },
  {
   "cell_type": "markdown",
   "metadata": {},
   "source": []
  }
 ],
 "metadata": {
  "kernelspec": {
   "display_name": "Python 3.10.4 64-bit ('TCC')",
   "language": "python",
   "name": "python3"
  },
  "language_info": {
   "codemirror_mode": {
    "name": "ipython",
    "version": 3
   },
   "file_extension": ".py",
   "mimetype": "text/x-python",
   "name": "python",
   "nbconvert_exporter": "python",
   "pygments_lexer": "ipython3",
   "version": "3.10.4"
  },
  "orig_nbformat": 4,
  "vscode": {
   "interpreter": {
    "hash": "337f31653d55614d460624929afd7126e454a2f71d7604f7a7344157ac4ab21c"
   }
  }
 },
 "nbformat": 4,
 "nbformat_minor": 2
}
