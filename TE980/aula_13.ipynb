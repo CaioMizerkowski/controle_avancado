{
 "cells": [
  {
   "cell_type": "markdown",
   "metadata": {},
   "source": [
    "# Simulação de sistemas no dominio do tempo\n",
    "\n",
    "Como varia $v_o(t)$ em relaçã a $v_1(t)$?\n",
    "\n",
    "Vamos estudar Espaço de Estados:\n",
    "\n",
    "$$\\dot{x}(t)=Ax(t)+Bu(t)$$\n",
    "$$y(t)=Cx(t)+Du(t)$$\n",
    "\n",
    "- Matrizes: A,B,C,D\n",
    "- $u(t)$: entrada\n",
    "- $y(t)$: saída\n",
    "- $x(t)$: vetor do espaço de estados\n",
    "- $\\dot{x}(t)$: derivada do vetor de estados"
   ]
  },
  {
   "cell_type": "markdown",
   "metadata": {},
   "source": [
    "## Atividade da Aula\n",
    "Obter o modelo no espaço de estados, considerando R=1, L=2 e C=3.\n",
    "\n",
    "$$\\begin{bmatrix}\n",
    "\\frac{-1}{RC} & \\frac{1}{C} \\\\\n",
    "\\frac{1}{L} & 0\\\\\n",
    "\\end{bmatrix}\n",
    "$$\n",
    "\n",
    "$$\n",
    "\\begin{bmatrix}\n",
    "\\frac{1}{RC}\\\\\n",
    "0\\\\\n",
    "\\end{bmatrix}\n",
    "$$"
   ]
  },
  {
   "cell_type": "markdown",
   "metadata": {},
   "source": []
  }
 ],
 "metadata": {
  "kernelspec": {
   "display_name": "Python 3.10.4 64-bit ('TCC')",
   "language": "python",
   "name": "python3"
  },
  "language_info": {
   "codemirror_mode": {
    "name": "ipython",
    "version": 3
   },
   "file_extension": ".py",
   "mimetype": "text/x-python",
   "name": "python",
   "nbconvert_exporter": "python",
   "pygments_lexer": "ipython3",
   "version": "3.10.4"
  },
  "orig_nbformat": 4,
  "vscode": {
   "interpreter": {
    "hash": "337f31653d55614d460624929afd7126e454a2f71d7604f7a7344157ac4ab21c"
   }
  }
 },
 "nbformat": 4,
 "nbformat_minor": 2
}
