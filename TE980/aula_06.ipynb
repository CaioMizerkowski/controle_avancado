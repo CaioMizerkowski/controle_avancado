{
 "cells": [
  {
   "cell_type": "markdown",
   "metadata": {},
   "source": [
    "# Método SK (Implementado no notebook da aula 4)\n",
    "$$\\tilde{J}(\\theta) = \\frac{1}{N}\\sum\\limits_{k=1}^{N}\\left| \\frac{A}{A^{l-1}}G(S_{k})-\\frac{B}{A^{l-1}} \\right|^2$$\n",
    "Quando o algoritmo converge, tem-se que $A=A^{l-1}$ portando $\\frac{A}{A^{l-1}}=1$, portando teremos:\n",
    "$$\\tilde{J}(\\theta) = \\frac{1}{N}\\sum\\limits_{k=1}^{N}\\left| G(S_{k})-\\frac{B}{A^{l-1}} \\right|^2$$\n",
    "\n",
    "Ao considerarmos na primeira iteração do método SK os $a^i$ igual a 0, temos o mesmo resultados que obtemos no método de Levi."
   ]
  },
  {
   "cell_type": "markdown",
   "metadata": {},
   "source": [
    "# Exercicio:\n",
    "Prove que a função $\\tilde{J}^l(\\theta)$ pode ser reescrita na forma:\n",
    "$$\n",
    "\\tilde{J}^l(\\theta)=\\frac{1}{N} \n",
    "\\sum\\limits_{k=1}^{N}\\left|\n",
    "    \\frac{G(S_{k})}{A^{l-1}}-\\frac{m(S_k)}{A^{l-1}}\\theta\n",
    "\\right|^2\n",
    "$$\n",
    "Comecemos com a forma:\n",
    "$$\n",
    "\\tilde{J}^l(\\theta)=\\frac{1}{N} \n",
    "\\sum\\limits_{k=1}^{N}\\left|\n",
    "    \\frac{A}{A^{l-1}}G(S_{k})-\\frac{B}{A^{l-1}}\n",
    "\\right|^2\n",
    "$$\n",
    "Vamos fazer a consideração que para um $l$ suficientemente grande teremos $\\tilde{J}^l(\\theta) \\approx 0$ e isolemos $\\frac{1}{A^{l-1}}$ nas equações:\n",
    "$$\n",
    "\\tilde{J}^l(\\theta)=\\frac{1}{N} \n",
    "\\sum\\limits_{k=1}^{N}\\left|\n",
    "    \\frac{1}{A^{l-1}}\n",
    "    \\left( A\\cdot G(S_{k})-B\n",
    "    \\right)\n",
    "\\right|^2\n",
    "$$\n",
    "Dividimos todos os membros por $A$:\n",
    "$$\n",
    "\\tilde{J}^l(\\theta)=\\frac{1}{N} \n",
    "\\sum\\limits_{k=1}^{N}\\left|\n",
    "    \\frac{1}{A^{l-1}}\n",
    "    \\left( G(S_{k})-\\frac{B}{A}\n",
    "    \\right)\n",
    "\\right|^2\n",
    "$$\n",
    "Podemos chamar então $\\frac{1}{A^{l-1}}$ de $w_k$:\n",
    "$$\n",
    "\\tilde{J}^l(\\theta)=\\frac{1}{N} \n",
    "\\sum\\limits_{k=1}^{N}\\left|\n",
    "    w_{k}\n",
    "    \\left( G(S_{k})-\\frac{B}{A}\n",
    "    \\right)\n",
    "\\right|^2\n",
    "$$\n",
    "Com isso retornamos ao problema anterior e está provado, ver notebook da aula_04 para os detalhes do problema anterior.\n",
    "$$\n",
    "\\tilde{J}^l(\\theta)=\\frac{1}{N} \n",
    "\\sum\\limits_{k=1}^{N}\\left|\n",
    "    w_{k}\n",
    "    \\left( G(S_{k})-m_k\\theta\n",
    "    \\right)\n",
    "\\right|^2\n",
    "$$\n",
    "\n",
    "A matrix cuja diagonal é comporta por $w_k$ é a matriz $W$, chegando em:\n",
    "$$WG(S_k) = WM\\theta$$\n"
   ]
  },
  {
   "cell_type": "markdown",
   "metadata": {},
   "source": []
  }
 ],
 "metadata": {
  "language_info": {
   "name": "python"
  },
  "orig_nbformat": 4
 },
 "nbformat": 4,
 "nbformat_minor": 2
}
