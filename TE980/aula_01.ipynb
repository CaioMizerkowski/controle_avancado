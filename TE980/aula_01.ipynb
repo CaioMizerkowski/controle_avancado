{
 "cells": [
  {
   "cell_type": "code",
   "execution_count": 1,
   "metadata": {},
   "outputs": [],
   "source": [
    "import numpy as np"
   ]
  },
  {
   "cell_type": "markdown",
   "metadata": {},
   "source": [
    "$$V\\approx\\hat{V}=R*I$$\n",
    "\n",
    "$$J=\\sum\\limits_{t=1}^{N}{(V(t)-\\hat{V}(t))^{2}}$$\n",
    "\n",
    "$$\\hat{R}=ARG\\underset{R}{MIN}(J)$$\n",
    "\n",
    "$$\\hat{R}=\\frac{\\sum\\limits_{t=1}^{N}V(t)I(t)}{\\sum\\limits_{t=1}^{N}I^{2}(t)}$$"
   ]
  },
  {
   "cell_type": "code",
   "execution_count": 37,
   "metadata": {},
   "outputs": [],
   "source": [
    "N = 1000\n",
    "R = 5\n",
    "b = np.array(range(N))+1\n",
    "v = b*R+np.random.normal(size=N)\n",
    "i = b"
   ]
  },
  {
   "cell_type": "code",
   "execution_count": 38,
   "metadata": {},
   "outputs": [],
   "source": [
    "def lsqr(v, i):\n",
    "    return np.sum(v * i) / np.sum(i**2)"
   ]
  },
  {
   "cell_type": "code",
   "execution_count": 39,
   "metadata": {},
   "outputs": [
    {
     "data": {
      "text/plain": [
       "4.999994039664903"
      ]
     },
     "execution_count": 39,
     "metadata": {},
     "output_type": "execute_result"
    }
   ],
   "source": [
    "lsqr(v, i)"
   ]
  },
  {
   "cell_type": "markdown",
   "metadata": {},
   "source": [
    "$$\\frac{\\delta{J}}{\\delta{R}}=-2*\\sum\\limits_{t=1}^{N}(V(t)-\\hat{R}I(t))I(t)$$\n",
    "$$0=\\sum\\limits_{t=1}^{N}(V(t)I(t)-\\hat{R}I^{2}(t))$$\n",
    "$$0=\\sum\\limits_{t=1}^{N}V(t)I(t)-\\sum\\limits_{t=1}^{N}\\hat{R}I^{2}(t)$$\n",
    "$$\\hat{R}\\sum\\limits_{t=1}^{N}I^{2}(t)=\\sum\\limits_{t=1}^{N}V(t)I(t)$$\n",
    "$$\\hat{R}=\\frac{\\sum\\limits_{t=1}^{N}V(t)I(t)}{\\sum\\limits_{t=1}^{N}I^{2}(t)}$$"
   ]
  },
  {
   "cell_type": "code",
   "execution_count": 77,
   "metadata": {},
   "outputs": [],
   "source": [
    "with open('aula_01.csv') as f:\n",
    "    file = f.read()\n",
    "file = file.split()\n",
    "file = np.array(list(zip(*[list(map(float,x.split(','))) for x in file])))\n",
    "v, i = file"
   ]
  },
  {
   "cell_type": "code",
   "execution_count": 78,
   "metadata": {},
   "outputs": [
    {
     "data": {
      "text/plain": [
       "301.2955353832501"
      ]
     },
     "execution_count": 78,
     "metadata": {},
     "output_type": "execute_result"
    }
   ],
   "source": [
    "lsqr(v, i)"
   ]
  }
 ],
 "metadata": {
  "interpreter": {
   "hash": "c0c1d9c1c10e933828abc112465bca4cddce3b9bfd87b406c99f21af5b401c8b"
  },
  "kernelspec": {
   "display_name": "Python 3.10.5 64-bit ('3.10.5')",
   "language": "python",
   "name": "python3"
  },
  "language_info": {
   "codemirror_mode": {
    "name": "ipython",
    "version": 3
   },
   "file_extension": ".py",
   "mimetype": "text/x-python",
   "name": "python",
   "nbconvert_exporter": "python",
   "pygments_lexer": "ipython3",
   "version": "3.10.5"
  },
  "orig_nbformat": 4
 },
 "nbformat": 4,
 "nbformat_minor": 2
}
