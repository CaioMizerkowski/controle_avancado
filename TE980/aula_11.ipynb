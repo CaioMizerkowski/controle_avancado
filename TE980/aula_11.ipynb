{
 "cells": [
  {
   "cell_type": "markdown",
   "metadata": {},
   "source": [
    "# Vector Fitting\n",
    "\n",
    "Se p1 e p2 são um par complexo conjugado, então c1 e c2 também formar um par complexo conjugado, assim como d1 e d2. De forma com que $\\theta$ passa a ser:\n",
    "$$\\theta = \\begin{bmatrix} c_0 & \\Re(c_1) & \\Im(c_1) & \\Re(d_1) & \\Im(d_1) \\end{bmatrix} $$\n",
    "Quando isso ocorre, fazer uma substituição na matrix M de:\n",
    "$$\\frac{1}{S-p_1}$$\n",
    "e\n",
    "$$\\frac{1}{S-p_2}$$\n",
    "por:\n",
    "$$\\frac{1}{S-p_1}+\\frac{1}{S-p_1^*}$$\n",
    "e\n",
    "$$\\frac{j}{S-p_1}-\\frac{j}{S-p_1^*}$$"
   ]
  },
  {
   "cell_type": "markdown",
   "metadata": {},
   "source": [
    "# M\n",
    "$$M =\n",
    "\\begin{bmatrix}\n",
    "1 & \\frac{1}{S_1-p_1}+\\frac{1}{S_1-p_1^*} & \\frac{j}{S_1-p_1}-\\frac{j}{S_1-p_1^*} & -G(S_1)(\\frac{1}{S_1-p_1}+\\frac{1}{S_1-p_1^*}) & -G(S_1)(\\frac{j}{S_1-p_1}-\\frac{j}{S_1-p_1^*}) \\\\\n",
    "1 & \\frac{1}{S_2-p_1}+\\frac{1}{S_2-p_1^*} & \\frac{j}{S_2-p_1}-\\frac{j}{S_2-p_1^*} & -G(S_2)(\\frac{1}{S_2-p_1}+\\frac{1}{S_2-p_1^*}) & -G(S_2)(\\frac{j}{S_2-p_1}-\\frac{j}{S_2-p_1^*}) \\\\\n",
    "1 & \\frac{1}{S_3-p_1}+\\frac{1}{S_3-p_1^*} & \\frac{j}{S_3-p_1}-\\frac{j}{S_3-p_1^*} & -G(S_3)(\\frac{1}{S_3-p_1}+\\frac{1}{S_3-p_1^*}) & -G(S_3)(\\frac{j}{S_3-p_1}-\\frac{j}{S_3-p_1^*}) \\\\\n",
    "1 & \\frac{1}{S_4-p_1}+\\frac{1}{S_4-p_1^*} & \\frac{j}{S_4-p_1}-\\frac{j}{S_4-p_1^*} & -G(S_4)(\\frac{1}{S_4-p_1}+\\frac{1}{S_4-p_1^*}) & -G(S_4)(\\frac{j}{S_4-p_1}-\\frac{j}{S_4-p_1^*}) \\\\\n",
    "1 & \\frac{1}{S_5-p_1}+\\frac{1}{S_5-p_1^*} & \\frac{j}{S_5-p_1}-\\frac{j}{S_5-p_1^*} & -G(S_5)(\\frac{1}{S_5-p_1}+\\frac{1}{S_5-p_1^*}) & -G(S_5)(\\frac{j}{S_5-p_1}-\\frac{j}{S_5-p_1^*}) \\\\\n",
    "\\end{bmatrix}\n",
    "$$"
   ]
  },
  {
   "cell_type": "markdown",
   "metadata": {},
   "source": [
    "Com os d's e c's, vejo se os p's são reais ou pares complexos conjugados encontrando os zeros da função:\n",
    "$$polos = zeros( 1+\\sum\\limits_{i=1}^{n}\\frac{d_i}{S-p_i} ) $$\n",
    "Encontrando os novos polos p para a nova iteração."
   ]
  },
  {
   "cell_type": "markdown",
   "metadata": {},
   "source": [
    "### Regra para encontrar os zeros\n",
    "\n",
    "Construir as matrizes:\n",
    "\n",
    "$$A = \n",
    "\\begin{bmatrix}\n",
    "p_1 & 0 & \\cdots & 0\\\\\n",
    "0 & p_2 & \\cdots & 0\\\\\n",
    "\\vdots & \\vdots & \\ddots & \\vdots\\\\\n",
    "0 & 0 & \\cdots & p_n\\\\\n",
    "\\end{bmatrix}\n",
    "$$\n",
    "\n",
    "$$B = \n",
    "\\begin{bmatrix}\n",
    "1\\\\\n",
    "1\\\\\n",
    "\\vdots\\\\\n",
    "1\\\\\n",
    "\\end{bmatrix}\n",
    "$$\n",
    "\n",
    "$$\\tilde{D} = \n",
    "\\begin{bmatrix}\n",
    "d_1 & d_2 & \\cdots & d_n \n",
    "\\end{bmatrix}\n",
    "$$\n",
    "\n",
    "#### Caso $\\Im(p_i) \\not= 0$\n",
    "Substitua as submatrizes:\n",
    "$$\\begin{bmatrix}\n",
    "p_{i} & 0 \\\\\n",
    "0 & p_{i+1}\\\\\n",
    "\\end{bmatrix}\n",
    "$$\n",
    "Por:\n",
    "$$\\begin{bmatrix}\n",
    "\\Re(p_{i}) & \\Im(p_{i}) \\\\\n",
    "-\\Im(p_{i}) & \\Re(p_{i})\\\\\n",
    "\\end{bmatrix}\n",
    "$$\n",
    "E:\n",
    "$$\\begin{bmatrix}\n",
    "1\\\\\n",
    "1\\\\\n",
    "\\end{bmatrix}\n",
    "$$\n",
    "Por:\n",
    "$$\\begin{bmatrix}\n",
    "2\\\\\n",
    "0\\\\\n",
    "\\end{bmatrix}\n",
    "$$\n",
    "Encontre os valores de p:\n",
    "$$p=eig(A-B\\tilde{D})$$\n",
    "E se $\\Re(p_i)>0$, fazer com que $p_i=-\\Re(p_i)+\\Im(p_i)$"
   ]
  },
  {
   "cell_type": "markdown",
   "metadata": {},
   "source": [
    "## Conjunto de dados\n",
    "- Trafo_345_225kV.mat\n",
    "- n = 12"
   ]
  },
  {
   "cell_type": "code",
   "execution_count": 1,
   "metadata": {},
   "outputs": [],
   "source": [
    "import numpy as np"
   ]
  },
  {
   "cell_type": "code",
   "execution_count": 753,
   "metadata": {},
   "outputs": [],
   "source": [
    "import seaborn as sns\n",
    "from matplotlib import pyplot as plt"
   ]
  },
  {
   "cell_type": "code",
   "execution_count": 293,
   "metadata": {},
   "outputs": [],
   "source": [
    "with open('aula_04.csv') as f:\n",
    "    data = f.read()\n",
    "data = data.split()\n",
    "data = np.array(list(zip(*[list(map(complex,x.split(';'))) for x in data])))\n",
    "u = data[0,:].real\n",
    "y = data[1,:]"
   ]
  },
  {
   "cell_type": "code",
   "execution_count": 1050,
   "metadata": {},
   "outputs": [],
   "source": [
    "def gen_r(u, y, i, p, is_complex):\n",
    "    p, pp = p[i], p[i-1]\n",
    "\n",
    "    if not is_complex:\n",
    "        return 1/(u-p)\n",
    "\n",
    "    real = not i%2\n",
    "    if is_complex and real:\n",
    "        return 1/(u-p)+1/(u-p.conj())\n",
    "\n",
    "    return 1j/(u-pp)-1j/(u-pp.conj())"
   ]
  },
  {
   "cell_type": "code",
   "execution_count": 1051,
   "metadata": {},
   "outputs": [],
   "source": [
    "def gen_d(u, y, i, p, is_complex):\n",
    "    p, pp = p[i], p[i-1]\n",
    "    \n",
    "    if not is_complex:\n",
    "        return -y*1/(u-p)\n",
    "\n",
    "    real = not i%2\n",
    "    if is_complex and real:\n",
    "        return -y*(1/(u-p)+1/(u-p.conj()))\n",
    "\n",
    "    return -y*(1j/(u-pp)-1j/(u-pp.conj()))\n"
   ]
  },
  {
   "cell_type": "code",
   "execution_count": 1052,
   "metadata": {},
   "outputs": [],
   "source": [
    "def fun_is_complex(p):\n",
    "    return np.logical_or(\n",
    "        np.concatenate([[False],np.where(p[1:].imag!=0, True, False)]),\n",
    "        np.where(p.imag!=0, True, False)\n",
    "        ).reshape(-1,1)"
   ]
  },
  {
   "cell_type": "code",
   "execution_count": 1220,
   "metadata": {},
   "outputs": [],
   "source": [
    "def lsqr_complex_polinomial_vf(u, y, n=2, p=None):\n",
    "    amostras = u.size\n",
    "    params = 2*n+1\n",
    "\n",
    "    if p is None:\n",
    "        p = np.zeros(n)\n",
    "    \n",
    "    is_complex = fun_is_complex(p)\n",
    "    \n",
    "    M = np.ones((amostras, params), dtype=complex)\n",
    "\n",
    "    for i in range(n):\n",
    "        M[:,i+1] =   gen_r(u, y, i, p, is_complex[i])\n",
    "        \n",
    "    for i in range(n):\n",
    "        M[:,i+1+n] = gen_d(u, y, i, p, is_complex[i])\n",
    "\n",
    "    M = np.concatenate([M.real, M.imag])\n",
    "    y_tilde = np.concatenate([y.real, y.imag])\n",
    "\n",
    "    theta = np.linalg.inv(M.T.dot(M)).dot(M.T).dot(y_tilde)\n",
    "\n",
    "    y_hat_tilde = np.sum(M*theta.T,axis=1)\n",
    "\n",
    "    y_hat = y_hat_tilde[:amostras]+1j*y_hat_tilde[amostras:]\n",
    "\n",
    "    return y_hat, theta, is_complex"
   ]
  },
  {
   "cell_type": "code",
   "execution_count": 1265,
   "metadata": {},
   "outputs": [],
   "source": [
    "def nmse_error(y, y_hat):\n",
    "    nmse = 10*np.log10(\n",
    "        np.sum(np.abs(y-y_hat)**2)/\n",
    "        np.sum(np.abs(y)**2)\n",
    "        )\n",
    "    return nmse"
   ]
  },
  {
   "cell_type": "code",
   "execution_count": 1280,
   "metadata": {},
   "outputs": [],
   "source": [
    "n = 2\n",
    "p = np.array([-0.1+10j, -0.1-10j])"
   ]
  },
  {
   "cell_type": "code",
   "execution_count": 1294,
   "metadata": {},
   "outputs": [
    {
     "name": "stdout",
     "output_type": "stream",
     "text": [
      "[[False]\n",
      " [False]]\n"
     ]
    },
    {
     "data": {
      "text/plain": [
       "-1.775640096529605"
      ]
     },
     "execution_count": 1294,
     "metadata": {},
     "output_type": "execute_result"
    },
    {
     "data": {
      "image/png": "[encoded data removed]",
      "text/plain": [
       "<Figure size 720x720 with 1 Axes>"
      ]
     },
     "metadata": {
      "needs_background": "light"
     },
     "output_type": "display_data"
    },
    {
     "data": {
      "image/png": "[encoded data removed]",
      "text/plain": [
       "<Figure size 720x720 with 1 Axes>"
      ]
     },
     "metadata": {
      "needs_background": "light"
     },
     "output_type": "display_data"
    }
   ],
   "source": [
    "y_hat, theta, is_complex = lsqr_complex_polinomial_vf(u,y,n=n,p=p)\n",
    "print(is_complex)\n",
    "\n",
    "A = np.diagflat(p)\n",
    "B = np.ones(n)\n",
    "C = theta[-n:]+0j\n",
    "\n",
    "for i, c in enumerate(is_complex):\n",
    "    if i==n-1 and not i%2:\n",
    "        is_complex[i] = False\n",
    "        #C[i] = np.abs(C[i])\n",
    "    if c and not i%2:\n",
    "        A[i:i+2,i:i+2] = np.array([[p[i].real, p[i].imag],[-p[i].imag, p[i].real]])\n",
    "        B[i:i+2] = [2, 0]\n",
    "        #C[i:i+2] = [C[i]+1j*C[i+1], C[i]-1j*C[i+1]]\n",
    "\n",
    "#B = B.reshape(-1,1)\n",
    "#C = C.reshape(1,-1)\n",
    "\n",
    "p = np.linalg.eigvals(A-B.dot(C))\n",
    "p = -np.abs(p.real)+1j*p.imag\n",
    "\n",
    "plt.figure(figsize=(10,10))\n",
    "sns.lineplot(x=y.real, y=y_hat.real)\n",
    "plt.figure(figsize=(10,10))\n",
    "sns.lineplot(x=y.imag, y=y_hat.imag)\n",
    "nmse_error(y, y_hat)"
   ]
  },
  {
   "cell_type": "code",
   "execution_count": 1251,
   "metadata": {},
   "outputs": [
    {
     "data": {
      "text/plain": [
       "(-5156.97001203552-59659.57409621407j)"
      ]
     },
     "execution_count": 1251,
     "metadata": {},
     "output_type": "execute_result"
    }
   ],
   "source": [
    "B.dot(C)"
   ]
  },
  {
   "cell_type": "code",
   "execution_count": 1252,
   "metadata": {},
   "outputs": [
    {
     "data": {
      "text/plain": [
       "array([[-2580.40908333+0.j,  9193.78841874+0.j],\n",
       "       [-9193.78841874+0.j, -2580.40908333+0.j]])"
      ]
     },
     "execution_count": 1252,
     "metadata": {},
     "output_type": "execute_result"
    }
   ],
   "source": [
    "A"
   ]
  },
  {
   "cell_type": "code",
   "execution_count": 1255,
   "metadata": {},
   "outputs": [
    {
     "data": {
      "text/plain": [
       "array([-7673.79480119+120018.31812122j, -2520.67294378   -699.16992879j])"
      ]
     },
     "execution_count": 1255,
     "metadata": {},
     "output_type": "execute_result"
    }
   ],
   "source": [
    "p"
   ]
  },
  {
   "cell_type": "code",
   "execution_count": 1254,
   "metadata": {},
   "outputs": [
    {
     "data": {
      "text/plain": [
       "array([ 3.41027673e+00, -8.79843708e+03, -1.01845746e+05, -2.57848501e+03,\n",
       "       -2.98297870e+04])"
      ]
     },
     "execution_count": 1254,
     "metadata": {},
     "output_type": "execute_result"
    }
   ],
   "source": [
    "theta"
   ]
  }
 ],
 "metadata": {
  "kernelspec": {
   "display_name": "Python 3.10.4 64-bit ('TCC')",
   "language": "python",
   "name": "python3"
  },
  "language_info": {
   "codemirror_mode": {
    "name": "ipython",
    "version": 3
   },
   "file_extension": ".py",
   "mimetype": "text/x-python",
   "name": "python",
   "nbconvert_exporter": "python",
   "pygments_lexer": "ipython3",
   "version": "3.10.4"
  },
  "orig_nbformat": 4,
  "vscode": {
   "interpreter": {
    "hash": "337f31653d55614d460624929afd7126e454a2f71d7604f7a7344157ac4ab21c"
   }
  }
 },
 "nbformat": 4,
 "nbformat_minor": 2
}
