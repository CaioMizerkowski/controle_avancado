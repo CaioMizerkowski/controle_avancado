{
 "cells": [
  {
   "cell_type": "markdown",
   "metadata": {},
   "source": [
    "# Vector Fitting\n",
    "\n",
    "Se p1 e p2 são um par complexo conjugado, então c1 e c2 também formar um par complexo conjugado, assim como d1 e d2. De forma com que $\\theta$ passa a ser:\n",
    "$$\\theta = \\begin{bmatrix} c_0 & \\Re(c_1) & \\Im(c_1) & \\Re(d_1) & \\Im(d_1) \\end{bmatrix} $$\n",
    "Quando isso ocorre, fazer uma substituição na matrix M de:\n",
    "$$\\frac{1}{S-p_1}$$\n",
    "e\n",
    "$$\\frac{1}{S-p_2}$$\n",
    "por:\n",
    "$$\\frac{1}{S-p_1}+\\frac{1}{S-p_1^*}$$\n",
    "e\n",
    "$$\\frac{j}{S-p_1}-\\frac{j}{S-p_1^*}$$"
   ]
  },
  {
   "cell_type": "markdown",
   "metadata": {},
   "source": [
    "# M\n",
    "$$M =\n",
    "\\begin{bmatrix}\n",
    "1 & \\frac{1}{S_1-p_1}+\\frac{1}{S_1-p_1^*} & \\frac{j}{S_1-p_1}-\\frac{j}{S_1-p_1^*} & -G(S_1)(\\frac{1}{S_1-p_1}+\\frac{1}{S_1-p_1^*}) & -G(S_1)(\\frac{j}{S_1-p_1}-\\frac{j}{S_1-p_1^*}) \\\\\n",
    "1 & \\frac{1}{S_2-p_1}+\\frac{1}{S_2-p_1^*} & \\frac{j}{S_2-p_1}-\\frac{j}{S_2-p_1^*} & -G(S_2)(\\frac{1}{S_2-p_1}+\\frac{1}{S_2-p_1^*}) & -G(S_2)(\\frac{j}{S_2-p_1}-\\frac{j}{S_2-p_1^*}) \\\\\n",
    "1 & \\frac{1}{S_3-p_1}+\\frac{1}{S_3-p_1^*} & \\frac{j}{S_3-p_1}-\\frac{j}{S_3-p_1^*} & -G(S_3)(\\frac{1}{S_3-p_1}+\\frac{1}{S_3-p_1^*}) & -G(S_3)(\\frac{j}{S_3-p_1}-\\frac{j}{S_3-p_1^*}) \\\\\n",
    "1 & \\frac{1}{S_4-p_1}+\\frac{1}{S_4-p_1^*} & \\frac{j}{S_4-p_1}-\\frac{j}{S_4-p_1^*} & -G(S_4)(\\frac{1}{S_4-p_1}+\\frac{1}{S_4-p_1^*}) & -G(S_4)(\\frac{j}{S_4-p_1}-\\frac{j}{S_4-p_1^*}) \\\\\n",
    "1 & \\frac{1}{S_5-p_1}+\\frac{1}{S_5-p_1^*} & \\frac{j}{S_5-p_1}-\\frac{j}{S_5-p_1^*} & -G(S_5)(\\frac{1}{S_5-p_1}+\\frac{1}{S_5-p_1^*}) & -G(S_5)(\\frac{j}{S_5-p_1}-\\frac{j}{S_5-p_1^*}) \\\\\n",
    "\\end{bmatrix}\n",
    "$$"
   ]
  },
  {
   "cell_type": "markdown",
   "metadata": {},
   "source": [
    "Com os d's e c's, vejo se os p's são reais ou pares complexos conjugados encontrando os zeros da função:\n",
    "$$polos = zeros( 1+\\sum\\limits_{i=1}^{n}\\frac{d_i}{S-p_i} ) $$\n",
    "Encontrando os novos polos p para a nova iteração."
   ]
  },
  {
   "cell_type": "code",
   "execution_count": 2,
   "metadata": {},
   "outputs": [],
   "source": [
    "import numpy as np"
   ]
  },
  {
   "cell_type": "code",
   "execution_count": null,
   "metadata": {},
   "outputs": [],
   "source": [
    "\n",
    "def lsqrt_polinomial(n, u, y):\n",
    "    amostras = len(u)\n",
    "    u = u.flatten()\n",
    "    y = y.flatten()\n",
    "    M = np.ones((amostras,n))\n",
    "    for i in range(n):\n",
    "        M[:,i] = u**i\n",
    "    y = np.array(y)\n",
    "    theta = np.linalg.inv(M.T.dot(M)).dot(M.T).dot(y)\n",
    "    y_hat = np.sum(M*theta.T,axis=1)\n",
    "    return theta, y_hat\n"
   ]
  },
  {
   "cell_type": "code",
   "execution_count": 45,
   "metadata": {},
   "outputs": [],
   "source": [
    "def gen_m(u,y,i,p,params):\n",
    "    if not i:\n",
    "        return 1\n",
    "\n",
    "    c = i < params/2\n",
    "    d = not c\n",
    "    real = i%2\n",
    "    imag = not real\n",
    "\n",
    "    i -= 1\n",
    "    p, pp = p[i], p[i-1]\n",
    "    complex = p.real < 100*p.imag\n",
    "\n",
    "    print(f'i: {i}, complex: {complex}, real: {real}, imag: {imag}, c: {c}, d: {d}')\n",
    "\n",
    "    if c and not complex:\n",
    "        return 1/(u-p)\n",
    "\n",
    "    if c and complex and real:\n",
    "        return 1/(u-p)+1/(u-p.conj())\n",
    "\n",
    "    if c and complex and imag:\n",
    "        return 1j/(u-pp)-1j/(u-pp.conj())\n",
    "\n",
    "    if d and not complex:\n",
    "        return -y*1/(u-p)\n",
    "\n",
    "    if d and complex and real:\n",
    "        return -y*(1/(u-p)+1/(u-p.conj()))\n",
    "\n",
    "    if d and complex and imag:\n",
    "        return -y*(1j/(u-pp)-1j/(u-pp.conj()))\n"
   ]
  },
  {
   "cell_type": "code",
   "execution_count": null,
   "metadata": {},
   "outputs": [],
   "source": [
    "def lsqr_complex_polinomial_vf(u, y, n=2, p=np.ones(1)):\n",
    "    amostras = u.size\n",
    "    params = 2*n+1\n",
    "    M = np.ones((amostras, params), dtype=complex)\n",
    "\n",
    "    for i in range(params):\n",
    "        M[:,i] = gen_m(u,y,i,p,params)\n",
    "\n",
    "    M = np.concatenate([M.real, M.imag])\n",
    "    y_tilde = np.concatenate([y.real, y.imag])\n",
    "\n",
    "    theta = np.linalg.inv(M.T.dot(M)).dot(M.T).dot(y_tilde)\n",
    "\n",
    "    y_hat_tilde = np.sum(M*theta.T,axis=1)\n",
    "\n",
    "    y_hat = y_hat_tilde[:amostras]+1j*y_hat_tilde[amostras:]\n",
    "\n",
    "    return y_hat, theta"
   ]
  },
  {
   "cell_type": "code",
   "execution_count": 23,
   "metadata": {},
   "outputs": [
    {
     "name": "stdout",
     "output_type": "stream",
     "text": [
      "0 True 0\n",
      "1 True 1\n",
      "2 True 0\n",
      "3 True 1\n",
      "4 False 0\n",
      "5 False 1\n",
      "6 False 0\n"
     ]
    }
   ],
   "source": [
    "n = 7\n",
    "for i in range(n):\n",
    "    print(i,i<n/2,i%2)"
   ]
  },
  {
   "cell_type": "code",
   "execution_count": 51,
   "metadata": {},
   "outputs": [
    {
     "name": "stdout",
     "output_type": "stream",
     "text": [
      "i: 0, complex: False, real: 1, imag: False, c: True, d: False\n",
      "i: 1, complex: False, real: 0, imag: True, c: True, d: False\n",
      "i: 2, complex: False, real: 1, imag: False, c: False, d: True\n",
      "i: 3, complex: False, real: 0, imag: True, c: False, d: True\n"
     ]
    }
   ],
   "source": [
    "n = 5\n",
    "for i in range(n):\n",
    "    gen_m(u=np.ones(1), y=np.ones(1), i=i, p=np.ones(n)+0.0001j, params=n)"
   ]
  },
  {
   "cell_type": "code",
   "execution_count": 117,
   "metadata": {},
   "outputs": [],
   "source": [
    "from scipy.optimize import root\n",
    "from functools import partial"
   ]
  },
  {
   "cell_type": "code",
   "execution_count": 138,
   "metadata": {},
   "outputs": [],
   "source": [
    "from mpmath import findroot, mp"
   ]
  },
  {
   "cell_type": "code",
   "execution_count": 254,
   "metadata": {},
   "outputs": [],
   "source": [
    "def fun(*p, d, S):\n",
    "    pr,pi = np.array(p).reshape((2,-1))\n",
    "    p = pr+1j*pi\n",
    "    res = 0\n",
    "    for s in S:\n",
    "        res+=1 + np.sum(d/(s-p))\n",
    "    return res\n",
    "\n",
    "def diff_fun(p, d, S):\n",
    "    pr,pi = p.reshape((2,-1))\n",
    "    p = pr+1j*pi\n",
    "    res = 0\n",
    "    for s in S:\n",
    "        res += np.sum(d/(s-p)**2)\n",
    "    return res\n",
    "\n",
    "def diff2_fun(*p, d, S):\n",
    "    res = []\n",
    "    for s in S:\n",
    "        res.append(np.sum(d/(s-p)**3))\n",
    "    return res\n",
    "\n",
    "S = np.linspace(10,100,20)+np.random.normal(0,1,20)\n",
    "d = np.ones(5)+np.random.normal(0,0.1,5)\n",
    "x0 = -5*np.zeros(5)+0.1j+np.random.normal(0,1,5)\n",
    "x0 = np.concatenate([x0.real, x0.imag])\n",
    "f = partial(fun, d=d, S=S)\n",
    "diff_f = partial(diff_fun, d=d, S=S)\n",
    "diff_f2 = partial(diff_fun, d=d, S=S)\n"
   ]
  },
  {
   "cell_type": "code",
   "execution_count": 252,
   "metadata": {},
   "outputs": [],
   "source": [
    "from scipy.optimize import minimize, root, root_scalar"
   ]
  },
  {
   "cell_type": "code",
   "execution_count": 255,
   "metadata": {},
   "outputs": [
    {
     "name": "stderr",
     "output_type": "stream",
     "text": [
      "/home/caio/.pyenv/versions/3.10.4/lib/python3.10/site-packages/scipy/optimize/_numdiff.py:598: ComplexWarning: Casting complex values to real discards the imaginary part\n",
      "  J_transposed[i] = df / dx\n",
      "/home/caio/.pyenv/versions/3.10.4/lib/python3.10/site-packages/scipy/optimize/_linesearch.py:155: ComplexWarning: Casting complex values to real discards the imaginary part\n",
      "  stp, phi1, derphi1, task = minpack2.dcsrch(alpha1, phi1, derphi1,\n"
     ]
    }
   ],
   "source": [
    "res = minimize(diff_f, x0)"
   ]
  },
  {
   "cell_type": "code",
   "execution_count": 259,
   "metadata": {},
   "outputs": [
    {
     "ename": "RuntimeError",
     "evalue": "all failed to converge after 100000 iterations",
     "output_type": "error",
     "traceback": [
      "\u001b[0;31m---------------------------------------------------------------------------\u001b[0m",
      "\u001b[0;31mRuntimeError\u001b[0m                              Traceback (most recent call last)",
      "\u001b[1;32m/home/caio/controle_avancado/TE980/aula_11.ipynb Cell 15\u001b[0m in \u001b[0;36m<cell line: 1>\u001b[0;34m()\u001b[0m\n\u001b[0;32m----> <a href='vscode-notebook-cell://wsl%2Bubuntu/home/caio/controle_avancado/TE980/aula_11.ipynb#ch0000027vscode-remote?line=0'>1</a>\u001b[0m root_scalar(f, x0\u001b[39m=\u001b[39;49mx0, method\u001b[39m=\u001b[39;49m\u001b[39m'\u001b[39;49m\u001b[39mhalley\u001b[39;49m\u001b[39m'\u001b[39;49m, fprime\u001b[39m=\u001b[39;49mdiff_f, fprime2\u001b[39m=\u001b[39;49mdiff_f2, maxiter\u001b[39m=\u001b[39;49m\u001b[39m100000\u001b[39;49m)\n",
      "File \u001b[0;32m~/.pyenv/versions/3.10.4/lib/python3.10/site-packages/scipy/optimize/_root_scalar.py:277\u001b[0m, in \u001b[0;36mroot_scalar\u001b[0;34m(f, args, method, bracket, fprime, fprime2, x0, x1, xtol, rtol, maxiter, options)\u001b[0m\n\u001b[1;32m    275\u001b[0m     \u001b[39mif\u001b[39;00m \u001b[39m'\u001b[39m\u001b[39mxtol\u001b[39m\u001b[39m'\u001b[39m \u001b[39min\u001b[39;00m kwargs:\n\u001b[1;32m    276\u001b[0m         kwargs[\u001b[39m'\u001b[39m\u001b[39mtol\u001b[39m\u001b[39m'\u001b[39m] \u001b[39m=\u001b[39m kwargs\u001b[39m.\u001b[39mpop(\u001b[39m'\u001b[39m\u001b[39mxtol\u001b[39m\u001b[39m'\u001b[39m)\n\u001b[0;32m--> 277\u001b[0m     r, sol \u001b[39m=\u001b[39m methodc(f, x0, args\u001b[39m=\u001b[39;49margs, fprime\u001b[39m=\u001b[39;49mfprime, fprime2\u001b[39m=\u001b[39;49mfprime2, \u001b[39m*\u001b[39;49m\u001b[39m*\u001b[39;49mkwargs)\n\u001b[1;32m    278\u001b[0m \u001b[39melse\u001b[39;00m:\n\u001b[1;32m    279\u001b[0m     \u001b[39mraise\u001b[39;00m \u001b[39mValueError\u001b[39;00m(\u001b[39m'\u001b[39m\u001b[39mUnknown solver \u001b[39m\u001b[39m%s\u001b[39;00m\u001b[39m'\u001b[39m \u001b[39m%\u001b[39m method)\n",
      "File \u001b[0;32m~/.pyenv/versions/3.10.4/lib/python3.10/site-packages/scipy/optimize/_zeros_py.py:277\u001b[0m, in \u001b[0;36mnewton\u001b[0;34m(func, x0, fprime, args, tol, maxiter, fprime2, x1, rtol, full_output, disp)\u001b[0m\n\u001b[1;32m    275\u001b[0m     \u001b[39mraise\u001b[39;00m \u001b[39mValueError\u001b[39;00m(\u001b[39m\"\u001b[39m\u001b[39mmaxiter must be greater than 0\u001b[39m\u001b[39m\"\u001b[39m)\n\u001b[1;32m    276\u001b[0m \u001b[39mif\u001b[39;00m np\u001b[39m.\u001b[39msize(x0) \u001b[39m>\u001b[39m \u001b[39m1\u001b[39m:\n\u001b[0;32m--> 277\u001b[0m     \u001b[39mreturn\u001b[39;00m _array_newton(func, x0, fprime, args, tol, maxiter, fprime2,\n\u001b[1;32m    278\u001b[0m                          full_output)\n\u001b[1;32m    280\u001b[0m \u001b[39m# Convert to float (don't use float(x0); this works also for complex x0)\u001b[39;00m\n\u001b[1;32m    281\u001b[0m p0 \u001b[39m=\u001b[39m \u001b[39m1.0\u001b[39m \u001b[39m*\u001b[39m x0\n",
      "File \u001b[0;32m~/.pyenv/versions/3.10.4/lib/python3.10/site-packages/scipy/optimize/_zeros_py.py:465\u001b[0m, in \u001b[0;36m_array_newton\u001b[0;34m(func, x0, fprime, args, tol, maxiter, fprime2, full_output)\u001b[0m\n\u001b[1;32m    461\u001b[0m     msg \u001b[39m=\u001b[39m \u001b[39m'\u001b[39m\u001b[39m{0:s}\u001b[39;00m\u001b[39m failed to converge after \u001b[39m\u001b[39m{1:d}\u001b[39;00m\u001b[39m iterations\u001b[39m\u001b[39m'\u001b[39m\u001b[39m.\u001b[39mformat(\n\u001b[1;32m    462\u001b[0m         all_or_some, maxiter\n\u001b[1;32m    463\u001b[0m     )\n\u001b[1;32m    464\u001b[0m     \u001b[39mif\u001b[39;00m failures\u001b[39m.\u001b[39mall():\n\u001b[0;32m--> 465\u001b[0m         \u001b[39mraise\u001b[39;00m \u001b[39mRuntimeError\u001b[39;00m(msg)\n\u001b[1;32m    466\u001b[0m     warnings\u001b[39m.\u001b[39mwarn(msg, \u001b[39mRuntimeWarning\u001b[39;00m)\n\u001b[1;32m    468\u001b[0m \u001b[39mif\u001b[39;00m full_output:\n",
      "\u001b[0;31mRuntimeError\u001b[0m: all failed to converge after 100000 iterations"
     ]
    }
   ],
   "source": [
    "root_scalar(f, x0=x0, method='halley', fprime=diff_f, fprime2=diff_f2, maxiter=100000)"
   ]
  },
  {
   "cell_type": "code",
   "execution_count": 237,
   "metadata": {},
   "outputs": [
    {
     "data": {
      "text/plain": [
       "[(1.5228689639454034+0.005381368529933482j),\n",
       " (1.316922631004227+0.0019662595329519557j),\n",
       " (1.250644352641464+0.0012283458909807313j),\n",
       " (1.2070290810083308+0.0008374979827153786j),\n",
       " (1.1735734274187541+0.0005884441970367332j),\n",
       " (1.1521902766373175+0.0004522852553241636j),\n",
       " (1.1296635069712928+0.0003282331754089331j),\n",
       " (1.1182101284105233+0.0002727816885371835j),\n",
       " (1.1057921165540543+0.00021846007705110415j),\n",
       " (1.0950385618455543+0.00017629247728879514j),\n",
       " (1.088212864740841+0.00015187269741724532j),\n",
       " (1.0814901576839666+0.00012960135364980917j),\n",
       " (1.0756139740499657+0.00011158090394438152j),\n",
       " (1.070242716005773+9.628904816545838e-05j),\n",
       " (1.0673113335756836+8.841883679802647e-05j),\n",
       " (1.0623958975533159+7.597507770203704e-05j),\n",
       " (1.0596106540621986+6.934288073404144e-05j),\n",
       " (1.057066821682215+6.355023039655027e-05j),\n",
       " (1.053453332265344+5.575623952327743e-05j),\n",
       " (1.0514296486388761+5.1614046608362166e-05j)]"
      ]
     },
     "execution_count": 237,
     "metadata": {},
     "output_type": "execute_result"
    }
   ],
   "source": [
    "pr,pi = res.x.reshape((2,-1))\n",
    "p = pr+1j*pi\n",
    "f(x0)"
   ]
  },
  {
   "cell_type": "code",
   "execution_count": 194,
   "metadata": {},
   "outputs": [
    {
     "ename": "ValueError",
     "evalue": "Could not find root within given tolerance. (1.0 > 2.16840434497100886801e-19)\nTry another starting point or tweak arguments.",
     "output_type": "error",
     "traceback": [
      "\u001b[0;31m---------------------------------------------------------------------------\u001b[0m",
      "\u001b[0;31mValueError\u001b[0m                                Traceback (most recent call last)",
      "\u001b[1;32m/home/caio/controle_avancado/TE980/aula_11.ipynb Cell 13\u001b[0m in \u001b[0;36m<cell line: 2>\u001b[0;34m()\u001b[0m\n\u001b[1;32m      <a href='vscode-notebook-cell://wsl%2Bubuntu/home/caio/controle_avancado/TE980/aula_11.ipynb#ch0000016vscode-remote?line=0'>1</a>\u001b[0m mp\u001b[39m.\u001b[39mdps \u001b[39m=\u001b[39m \u001b[39m15\u001b[39m\n\u001b[0;32m----> <a href='vscode-notebook-cell://wsl%2Bubuntu/home/caio/controle_avancado/TE980/aula_11.ipynb#ch0000016vscode-remote?line=1'>2</a>\u001b[0m findroot(f, x0\u001b[39m.\u001b[39;49mtolist(), solver\u001b[39m=\u001b[39;49m\u001b[39m'\u001b[39;49m\u001b[39msecant\u001b[39;49m\u001b[39m'\u001b[39;49m)\n",
      "File \u001b[0;32m~/.pyenv/versions/3.10.4/lib/python3.10/site-packages/mpmath/calculus/optimization.py:985\u001b[0m, in \u001b[0;36mfindroot\u001b[0;34m(ctx, f, x0, solver, tol, verbose, verify, **kwargs)\u001b[0m\n\u001b[1;32m    983\u001b[0m         xl \u001b[39m=\u001b[39m x\n\u001b[1;32m    984\u001b[0m     \u001b[39mif\u001b[39;00m verify \u001b[39mand\u001b[39;00m norm(f(\u001b[39m*\u001b[39mxl))\u001b[39m*\u001b[39m\u001b[39m*\u001b[39m\u001b[39m2\u001b[39m \u001b[39m>\u001b[39m tol: \u001b[39m# TODO: better condition?\u001b[39;00m\n\u001b[0;32m--> 985\u001b[0m         \u001b[39mraise\u001b[39;00m \u001b[39mValueError\u001b[39;00m(\u001b[39m'\u001b[39m\u001b[39mCould not find root within given tolerance. \u001b[39m\u001b[39m'\u001b[39m\n\u001b[1;32m    986\u001b[0m                          \u001b[39m'\u001b[39m\u001b[39m(\u001b[39m\u001b[39m%s\u001b[39;00m\u001b[39m > \u001b[39m\u001b[39m%s\u001b[39;00m\u001b[39m)\u001b[39m\u001b[39m\\n\u001b[39;00m\u001b[39m'\u001b[39m\n\u001b[1;32m    987\u001b[0m                          \u001b[39m'\u001b[39m\u001b[39mTry another starting point or tweak arguments.\u001b[39m\u001b[39m'\u001b[39m\n\u001b[1;32m    988\u001b[0m                          \u001b[39m%\u001b[39m (norm(f(\u001b[39m*\u001b[39mxl))\u001b[39m*\u001b[39m\u001b[39m*\u001b[39m\u001b[39m2\u001b[39m, tol))\n\u001b[1;32m    989\u001b[0m     \u001b[39mreturn\u001b[39;00m x\n\u001b[1;32m    990\u001b[0m \u001b[39mfinally\u001b[39;00m:\n",
      "\u001b[0;31mValueError\u001b[0m: Could not find root within given tolerance. (1.0 > 2.16840434497100886801e-19)\nTry another starting point or tweak arguments."
     ]
    }
   ],
   "source": [
    "mp.dps = 15\n",
    "findroot(f, x0.tolist(), solver='secant')"
   ]
  }
 ],
 "metadata": {
  "kernelspec": {
   "display_name": "Python 3.10.4 64-bit ('3.10.4')",
   "language": "python",
   "name": "python3"
  },
  "language_info": {
   "codemirror_mode": {
    "name": "ipython",
    "version": 3
   },
   "file_extension": ".py",
   "mimetype": "text/x-python",
   "name": "python",
   "nbconvert_exporter": "python",
   "pygments_lexer": "ipython3",
   "version": "3.10.4"
  },
  "orig_nbformat": 4,
  "vscode": {
   "interpreter": {
    "hash": "8ebb7c335093bb2a6e5a771fe2f24267b9482242c441074cc9d820c00b8871c6"
   }
  }
 },
 "nbformat": 4,
 "nbformat_minor": 2
}
