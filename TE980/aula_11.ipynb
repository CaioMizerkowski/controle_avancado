{
 "cells": [
  {
   "cell_type": "markdown",
   "metadata": {},
   "source": [
    "# Vector Fitting\n",
    "\n",
    "Se p1 e p2 são um par complexo conjugado, então c1 e c2 também formar um par complexo conjugado, assim como d1 e d2. De forma com que $\\theta$ passa a ser:\n",
    "$$\\theta = \\begin{bmatrix} c_0 & \\Re(c_1) & \\Im(c_1) & \\Re(d_1) & \\Im(d_1) \\end{bmatrix} $$\n",
    "Quando isso ocorre, fazer uma substituição na matrix M de:\n",
    "$$\\frac{1}{S-p_1}$$\n",
    "e\n",
    "$$\\frac{1}{S-p_2}$$\n",
    "por:\n",
    "$$\\frac{1}{S-p_1}+\\frac{1}{S-p_1^*}$$\n",
    "e\n",
    "$$\\frac{j}{S-p_1}-\\frac{j}{S-p_1^*}$$"
   ]
  },
  {
   "cell_type": "markdown",
   "metadata": {},
   "source": [
    "# M\n",
    "$$M =\n",
    "\\begin{bmatrix}\n",
    "1 & \\frac{1}{S_1-p_1}+\\frac{1}{S_1-p_1^*} & \\frac{j}{S_1-p_1}-\\frac{j}{S_1-p_1^*} & -G(S_1)(\\frac{1}{S_1-p_1}+\\frac{1}{S_1-p_1^*}) & -G(S_1)(\\frac{j}{S_1-p_1}-\\frac{j}{S_1-p_1^*}) \\\\\n",
    "1 & \\frac{1}{S_2-p_1}+\\frac{1}{S_2-p_1^*} & \\frac{j}{S_2-p_1}-\\frac{j}{S_2-p_1^*} & -G(S_2)(\\frac{1}{S_2-p_1}+\\frac{1}{S_2-p_1^*}) & -G(S_2)(\\frac{j}{S_2-p_1}-\\frac{j}{S_2-p_1^*}) \\\\\n",
    "1 & \\frac{1}{S_3-p_1}+\\frac{1}{S_3-p_1^*} & \\frac{j}{S_3-p_1}-\\frac{j}{S_3-p_1^*} & -G(S_3)(\\frac{1}{S_3-p_1}+\\frac{1}{S_3-p_1^*}) & -G(S_3)(\\frac{j}{S_3-p_1}-\\frac{j}{S_3-p_1^*}) \\\\\n",
    "1 & \\frac{1}{S_4-p_1}+\\frac{1}{S_4-p_1^*} & \\frac{j}{S_4-p_1}-\\frac{j}{S_4-p_1^*} & -G(S_4)(\\frac{1}{S_4-p_1}+\\frac{1}{S_4-p_1^*}) & -G(S_4)(\\frac{j}{S_4-p_1}-\\frac{j}{S_4-p_1^*}) \\\\\n",
    "1 & \\frac{1}{S_5-p_1}+\\frac{1}{S_5-p_1^*} & \\frac{j}{S_5-p_1}-\\frac{j}{S_5-p_1^*} & -G(S_5)(\\frac{1}{S_5-p_1}+\\frac{1}{S_5-p_1^*}) & -G(S_5)(\\frac{j}{S_5-p_1}-\\frac{j}{S_5-p_1^*}) \\\\\n",
    "\\end{bmatrix}\n",
    "$$"
   ]
  },
  {
   "cell_type": "markdown",
   "metadata": {},
   "source": [
    "Com os d's e c's, vejo se os p's são reais ou pares complexos conjugados encontrando os zeros da função:\n",
    "$$polos = zeros( 1+\\sum\\limits_{i=1}^{n}\\frac{d_i}{S-p_i} ) $$\n",
    "Encontrando os novos polos p para a nova iteração."
   ]
  },
  {
   "cell_type": "code",
   "execution_count": null,
   "metadata": {},
   "outputs": [],
   "source": [
    "import numpy as np"
   ]
  },
  {
   "cell_type": "code",
   "execution_count": null,
   "metadata": {},
   "outputs": [],
   "source": [
    "\n",
    "def lsqrt_polinomial(n, u, y):\n",
    "    amostras = len(u)\n",
    "    u = u.flatten()\n",
    "    y = y.flatten()\n",
    "    M = np.ones((amostras,n))\n",
    "    for i in range(n):\n",
    "        M[:,i] = u**i\n",
    "    y = np.array(y)\n",
    "    theta = np.linalg.inv(M.T.dot(M)).dot(M.T).dot(y)\n",
    "    y_hat = np.sum(M*theta.T,axis=1)\n",
    "    return theta, y_hat\n"
   ]
  },
  {
   "cell_type": "code",
   "execution_count": null,
   "metadata": {},
   "outputs": [],
   "source": [
    "\n",
    "def lsqr_complex_polinomial(u, y, na=2, nb=1, Ainv=np.ones(1)):\n",
    "    amostras = u.size\n",
    "    params = na+nb+1\n",
    "    M = np.ones((amostras, params), dtype=complex)\n",
    "\n",
    "    for i in range(nb+1):\n",
    "        M[:,i] = u**i\n",
    "\n",
    "    for i in range(nb+1, params):\n",
    "        j = i - nb\n",
    "        M[:,i] = -u**j*y\n",
    "    M = M*Ainv.reshape((Ainv.size,1))\n",
    "    y = y*Ainv\n",
    "    M = np.concatenate([M.real, M.imag])\n",
    "    y_tilde = np.concatenate([y.real, y.imag])\n",
    "    theta = np.linalg.inv(M.T.dot(M)).dot(M.T).dot(y_tilde)\n",
    "    y_hat_tilde = np.sum(M*theta.T,axis=1)\n",
    "    y_hat = y_hat_tilde[:amostras]+1j*y_hat_tilde[amostras:]\n",
    "    return y_hat, theta\n"
   ]
  },
  {
   "cell_type": "code",
   "execution_count": null,
   "metadata": {},
   "outputs": [],
   "source": [
    "def gen_m(p):\n",
    "    pass"
   ]
  },
  {
   "cell_type": "code",
   "execution_count": null,
   "metadata": {},
   "outputs": [],
   "source": [
    "def lsqr_complex_polinomial_vf(u, y, n=2, p=np.ones(1)):\n",
    "    amostras = u.size\n",
    "    params = 2*n+1\n",
    "    M = np.ones((amostras, params), dtype=complex)\n",
    "\n",
    "    for i in range(params):\n",
    "        M[:,i] = gen_m(p)\n",
    "\n",
    "    M = M.reshape((-1,1))\n",
    "    y = y\n",
    "\n",
    "    M = np.concatenate([M.real, M.imag])\n",
    "    y_tilde = np.concatenate([y.real, y.imag])\n",
    "\n",
    "    theta = np.linalg.inv(M.T.dot(M)).dot(M.T).dot(y_tilde)\n",
    "\n",
    "    y_hat_tilde = np.sum(M*theta.T,axis=1)\n",
    "\n",
    "    y_hat = y_hat_tilde[:amostras]+1j*y_hat_tilde[amostras:]\n",
    "\n",
    "    return y_hat, theta"
   ]
  }
 ],
 "metadata": {
  "kernelspec": {
   "display_name": "Python 3.10.4 64-bit ('3.10.4')",
   "language": "python",
   "name": "python3"
  },
  "language_info": {
   "name": "python",
   "version": "3.10.4"
  },
  "orig_nbformat": 4,
  "vscode": {
   "interpreter": {
    "hash": "8ebb7c335093bb2a6e5a771fe2f24267b9482242c441074cc9d820c00b8871c6"
   }
  }
 },
 "nbformat": 4,
 "nbformat_minor": 2
}
