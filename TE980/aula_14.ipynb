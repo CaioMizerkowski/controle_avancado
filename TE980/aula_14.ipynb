{
 "cells": [
  {
   "cell_type": "markdown",
   "metadata": {},
   "source": [
    "Mostra que a função objetivo $\\tilde{J}(\\theta)$ do método VF no domínio do tempo pode ser reescrita na forma:\n",
    "$$\n",
    "\\tilde{J}(\\theta) = \\frac{1}{N}\\sum\\limits_{k=0}^{N-1}\\left( y(t_k)-m(t_k)\\theta \\right)^{2}\n",
    "$$\n",
    "Onde:\n",
    "$$\n",
    "m(t_k) = \\begin{bmatrix}\n",
    "u(t_k) & \\tilde{u}_1(t_k) & \\cdots & \\tilde{u}_n(t_k) & -\\tilde{y}_0(t_k) & \\cdots & -\\tilde{y}_n(t_k)\n",
    "\\end{bmatrix}\n",
    "$$\n",
    "$$\n",
    "theta = \\begin{bmatrix}\n",
    "c_0 & c_1 & \\cdots & c_n & d_1 & \\cdots & d_n\n",
    "\\end{bmatrix}^T\n",
    "$$"
   ]
  },
  {
   "cell_type": "markdown",
   "metadata": {},
   "source": [
    "$$\\tilde{u}_i=1\\frac{1}{\\rho-\\rho_i}u(t_k)$$\n",
    "\n",
    "$$\\tilde{y}_i=1\\frac{1}{\\rho-\\rho_i}y(t_k)$$\n",
    "\n",
    "$$\n",
    "\\tilde{J}(\\theta) = \\frac{1}{N}\\sum\\limits_{k=0}^{N-1}\\left(\n",
    "    \\left(\n",
    "        1+\\sum\\limits_{i=1}^{n}\\frac{d_i}{\\rho-\\rho_i}\n",
    "    \\right)y(t_k)\n",
    "    -\\left(\n",
    "        c_0+\\sum\\limits_{i=1}^{n}\\frac{c_i}{\\rho-\\rho_i}\n",
    "    \\right)u(t_k)\n",
    "    \n",
    "    \\right)^{2}\n",
    "$$"
   ]
  },
  {
   "cell_type": "markdown",
   "metadata": {},
   "source": [
    "$$\n",
    "\\tilde{J}(\\theta) = \\frac{1}{N}\\sum\\limits_{k=0}^{N-1}\\left(\n",
    "    \\left(\n",
    "        y(t_k)+\\sum\\limits_{i=1}^{n}\\frac{d_i}{\\rho-\\rho_i}y(t_k)\n",
    "    \\right)\n",
    "    -\\left(\n",
    "        c_0u(t_k)+\\sum\\limits_{i=1}^{n}\\frac{c_i}{\\rho-\\rho_i}u(t_k)\n",
    "    \\right)\n",
    "    \n",
    "    \\right)^{2}\n",
    "$$"
   ]
  },
  {
   "cell_type": "markdown",
   "metadata": {},
   "source": [
    "$$\n",
    "\\tilde{J}(\\theta) = \\frac{1}{N}\\sum\\limits_{k=0}^{N-1}\\left(\n",
    "    \\left(\n",
    "        y(t_k)+\\sum\\limits_{i=1}^{n}d_i\\tilde{y}_i(t_k)\n",
    "    \\right)\n",
    "    -\\left(\n",
    "        c_0u(t_k)+\\sum\\limits_{i=1}^{n}c_i\\tilde{u}_i(t_k)\n",
    "    \\right)\n",
    "    \n",
    "    \\right)^{2}\n",
    "$$"
   ]
  },
  {
   "cell_type": "markdown",
   "metadata": {},
   "source": [
    "$$\n",
    "\\tilde{J}(\\theta) = \\frac{1}{N}\\sum\\limits_{k=0}^{N-1}\\left(\n",
    "        y(t_k)\n",
    "    -\\left(\n",
    "        c_0u(t_k)+\\sum\\limits_{i=1}^{n}c_i\\tilde{u}_i(t_k)-\\sum\\limits_{i=1}^{n}d_i\\tilde{y}_i(t_k)\n",
    "    \\right)\n",
    "    \n",
    "    \\right)^{2}\n",
    "$$"
   ]
  },
  {
   "cell_type": "markdown",
   "metadata": {},
   "source": [
    "$$\n",
    "\\tilde{J}(\\theta) = \\frac{1}{N}\\sum\\limits_{k=0}^{N-1}\\left(\n",
    "    y(t_k)\n",
    "    -\\left(\n",
    "\\begin{bmatrix}\n",
    "u(t_k) & \\tilde{u}_1(t_k) & \\cdots & \\tilde{u}_n(t_k) & -\\tilde{y}_1(t_k) & \\cdots & -\\tilde{y}_n(t_k)\n",
    "\\end{bmatrix}\n",
    "\\begin{bmatrix}\n",
    "c_0 & c_1 & \\cdots & c_n & d_1 & \\cdots & d_n\n",
    "\\end{bmatrix}^T\n",
    "    \\right)\n",
    "    \\right)^{2}\n",
    "$$\n"
   ]
  },
  {
   "cell_type": "markdown",
   "metadata": {},
   "source": [
    "$$\n",
    "\\tilde{J}(\\theta) = \\frac{1}{N}\\sum\\limits_{k=0}^{N-1}\\left(\n",
    "    y(t_k)\n",
    "    -m(t_k)\\theta\n",
    "    \\right)^{2}\n",
    "$$\n"
   ]
  }
 ],
 "metadata": {
  "kernelspec": {
   "display_name": "Python 3.10.4 64-bit ('TCC')",
   "language": "python",
   "name": "python3"
  },
  "language_info": {
   "name": "python",
   "version": "3.10.4"
  },
  "orig_nbformat": 4,
  "vscode": {
   "interpreter": {
    "hash": "337f31653d55614d460624929afd7126e454a2f71d7604f7a7344157ac4ab21c"
   }
  }
 },
 "nbformat": 4,
 "nbformat_minor": 2
}
