{
 "cells": [
  {
   "cell_type": "markdown",
   "metadata": {},
   "source": [
    "# Modelo de Bateria"
   ]
  },
  {
   "cell_type": "code",
   "execution_count": 1,
   "metadata": {},
   "outputs": [],
   "source": [
    "import numpy as np\n",
    "import seaborn as sns\n",
    "from matplotlib import pyplot as plt\n",
    "import polars as ps\n",
    "from battery_utils import v_mid, v_inf, v_sup, cs_r0, cs_r1, cs_r2, cs_c1, cs_c2"
   ]
  },
  {
   "cell_type": "markdown",
   "metadata": {},
   "source": [
    "## Execução"
   ]
  },
  {
   "cell_type": "markdown",
   "metadata": {},
   "source": [
    "### Componentes e OVC em função do SoC"
   ]
  },
  {
   "cell_type": "code",
   "execution_count": 2,
   "metadata": {},
   "outputs": [],
   "source": [
    "cs_mid = v_mid()\n",
    "\n",
    "def OCV(z):\n",
    "    if z<0.05:\n",
    "        return 0\n",
    "    if z>1:\n",
    "        return 3.5\n",
    "    return cs_mid(z)\n",
    "\n",
    "def r0(ocv):\n",
    "    if ocv>3.343:\n",
    "        return cs_r0(3.343)\n",
    "\n",
    "    if ocv<3.184:\n",
    "        return cs_r0(3.184)\n",
    "\n",
    "    return cs_r0(ocv)\n",
    "\n",
    "def r1(ocv):\n",
    "    if ocv>3.343:\n",
    "        return cs_r1(3.343)\n",
    "\n",
    "    if ocv<3.184:\n",
    "        return cs_r1(3.184)\n",
    "\n",
    "    return cs_r1(ocv)\n",
    "\n",
    "def c1(ocv):\n",
    "    if ocv>3.343:\n",
    "        return cs_c1(3.343)\n",
    "\n",
    "    if ocv<3.184:\n",
    "        return cs_c1(3.184)\n",
    "\n",
    "    return cs_c1(ocv)\n",
    "\n",
    "def r2(ocv):\n",
    "    if ocv>3.343:\n",
    "        return cs_r2(3.343)\n",
    "\n",
    "    if ocv<3.184:\n",
    "        return cs_r2(3.184)\n",
    "\n",
    "    return cs_r2(ocv)\n",
    "\n",
    "def c2(ocv):\n",
    "    if ocv>3.343:\n",
    "        return cs_c2(3.343)\n",
    "\n",
    "    if ocv<3.184:\n",
    "        return cs_c2(3.184)\n",
    "\n",
    "    return cs_c2(ocv)\n"
   ]
  },
  {
   "cell_type": "markdown",
   "metadata": {},
   "source": [
    "### Update dos valores"
   ]
  },
  {
   "cell_type": "code",
   "execution_count": 3,
   "metadata": {},
   "outputs": [],
   "source": [
    "def update_z(z, Q, n, i, d_t):\n",
    "    '''\n",
    "    z: SoC\n",
    "    Q: capacidade total (As)\n",
    "    n: eficiência coulombiana/carga\n",
    "    i: corrente (A)\n",
    "    d_t: variação no tempo (s)\n",
    "    '''\n",
    "    d_h = d_t/3600\n",
    "    z -= n*i*(d_h/Q)\n",
    "    return max(z,0)"
   ]
  },
  {
   "cell_type": "code",
   "execution_count": 4,
   "metadata": {},
   "outputs": [],
   "source": [
    "def update_v(z, i_r0, i_r1, i_r2=0):\n",
    "    ocv = OCV(z)\n",
    "    return ocv - i_r0*r0(ocv) - i_r1*r1(ocv) - i_r2*r2(ocv)"
   ]
  },
  {
   "cell_type": "code",
   "execution_count": 5,
   "metadata": {},
   "outputs": [],
   "source": [
    "#d_t em segundos nessa equação\n",
    "def update_i_r1(ocv, i_r0, i_r1, d_t):\n",
    "    e = np.exp(-d_t/(c1(ocv)*r1(ocv)))\n",
    "    return i_r1*e+i_r0*(1-e)\n",
    "\n",
    "def update_i_r2(ocv, i_r0, i_r2, d_t):\n",
    "    e = np.exp(-d_t/(c1(ocv)*r2(ocv)))\n",
    "    return i_r2*e+i_r0*(1-e)"
   ]
  },
  {
   "cell_type": "markdown",
   "metadata": {},
   "source": [
    "### Loop de execução"
   ]
  },
  {
   "cell_type": "code",
   "execution_count": 12,
   "metadata": {},
   "outputs": [],
   "source": [
    "z = 1 # SoC\n",
    "Q = 100 # capacidade total (Ah) (100Ah)\n",
    "d_t = 0.01 # variação no tempo (s)\n",
    "n = 1 # eficiência coulombiana/carga\n",
    "i_r1 = 0 # corrente (A)\n",
    "i_r2 = 0 # corrente (A)\n",
    "i0 = 100 # corrente (A)\n",
    "\n",
    "V = []\n",
    "I1 = []\n",
    "Z = []\n",
    "pausa = int(3600/d_t)\n",
    "descarga = int(pausa*0.1)\n",
    "I0 = ([0.0]*pausa+[i0]*descarga)*9 # corrente (A)\n",
    "\n",
    "for i_r0 in I0:\n",
    "    if z <= 0:\n",
    "        I0 = I0[:len(V)]\n",
    "        break\n",
    "    # Update dos valores\n",
    "    v = update_v(z, i_r0, i_r1, i_r2)\n",
    "    z = update_z(z, Q, n, i_r0, d_t)\n",
    "\n",
    "    ocv = OCV(z)\n",
    "    i_r1 = update_i_r1(ocv, i_r0, i_r1, d_t)\n",
    "    i_r2 = update_i_r2(ocv, i_r0, i_r2, d_t)\n",
    "    # Armazenamento dos valores\n",
    "    V.append(v)\n",
    "    Z.append(z)\n",
    "    I1.append(i_r1)\n",
    "\n",
    "t = np.arange(len(V))\n",
    "df = ps.DataFrame(data={'t':t,'V': V, 'I0': I0, 'Z': Z})\n",
    "df['dV'] = df['V'].diff()\n",
    "df['dI'] = df['I0'].diff()"
   ]
  },
  {
   "cell_type": "markdown",
   "metadata": {},
   "source": [
    "### Gráficos"
   ]
  },
  {
   "cell_type": "code",
   "execution_count": 13,
   "metadata": {},
   "outputs": [
    {
     "data": {
      "image/png": "[encoded data removed]",
      "text/plain": [
       "<Figure size 1440x576 with 1 Axes>"
      ]
     },
     "metadata": {
      "needs_background": "light"
     },
     "output_type": "display_data"
    }
   ],
   "source": [
    "plt.figure(figsize=(20, 8))\n",
    "sns.lineplot(data=df.to_pandas(), x='t', y='V')\n",
    "sns.scatterplot(data=df.to_pandas(), x='t', y='V', color='red')\n",
    "plt.ylabel('V')\n",
    "plt.xlabel('Amostras')\n",
    "plt.title('Tensão de saída')\n",
    "plt.ylim([min(V)-0.1, max(V)+0.1])\n",
    "plt.xlim([0, len(V)])\n",
    "plt.xticks(np.arange(0, len(V), pausa+descarga))\n",
    "plt.grid()\n",
    "plt.show()\n",
    "plt.close()"
   ]
  }
 ],
 "metadata": {
  "kernelspec": {
   "display_name": "Python 3.10.4 64-bit ('TCC')",
   "language": "python",
   "name": "python3"
  },
  "language_info": {
   "codemirror_mode": {
    "name": "ipython",
    "version": 3
   },
   "file_extension": ".py",
   "mimetype": "text/x-python",
   "name": "python",
   "nbconvert_exporter": "python",
   "pygments_lexer": "ipython3",
   "version": "3.10.4"
  },
  "orig_nbformat": 4,
  "vscode": {
   "interpreter": {
    "hash": "337f31653d55614d460624929afd7126e454a2f71d7604f7a7344157ac4ab21c"
   }
  }
 },
 "nbformat": 4,
 "nbformat_minor": 2
}
