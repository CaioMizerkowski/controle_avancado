{
 "cells": [
  {
   "cell_type": "markdown",
   "metadata": {},
   "source": [
    "## Atualização da matrix de covariância\n",
    "$$P(t) = P(t)+Q(t)$$\n",
    "Possibilidades: Busca aleatória e reiniciar a matriz.\n",
    "Quanto somo na matriz de covariância, reduzo a confiança que tenho nela.\n",
    "\n",
    "O algoritmo para de corrigir, ele adormeceu. Uma possibilidade é definir um traço minimo, evitar que o traço fique abaixo.\n",
    "\n",
    "Fator de esquecimento ($\\lambda$), criar um janelamento só para as amostras já recentes. Escolher um valor entre 0.9 e 1 por padrão.\n",
    "\n",
    "O $t_{r0}$ é um parametro de projeto, um traço \"minimo\", normalmente abaixo de 10 e na literatura abaixo de 1."
   ]
  }
 ],
 "metadata": {
  "language_info": {
   "name": "python"
  },
  "orig_nbformat": 4
 },
 "nbformat": 4,
 "nbformat_minor": 2
}
