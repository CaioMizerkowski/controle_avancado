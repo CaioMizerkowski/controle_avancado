{
 "cells": [
  {
   "cell_type": "markdown",
   "metadata": {},
   "source": [
    "## Polinomio auto regressivo\n",
    "Se tem np polos, significa que precisa de np pontos anteriores.\\\n",
    "O $z^{-d}$ é o atraso de transporte \\\n",
    "Função custo possível:\n",
    "$$J = MSE+\\lambda\\sum numero de parametros$$\n",
    "## Estimador de Markov\n",
    "Estimador dos minimos quadrados ponderados\n",
    "$$J=[Y - \\Phi\\hat{\\Theta}]^TW[Y - \\Phi\\hat{\\Theta}]$$"
   ]
  },
  {
   "cell_type": "markdown",
   "metadata": {},
   "source": []
  },
  {
   "cell_type": "markdown",
   "metadata": {},
   "source": []
  },
  {
   "cell_type": "code",
   "execution_count": 3,
   "metadata": {},
   "outputs": [],
   "source": [
    "import numpy as np\n",
    "import seaborn as sb"
   ]
  },
  {
   "cell_type": "code",
   "execution_count": 89,
   "metadata": {},
   "outputs": [],
   "source": [
    "y = np.arange(100)[::-1]+np.random.normal(size=100)\n",
    "u = y*-1+np.random.normal(size=100)"
   ]
  },
  {
   "cell_type": "code",
   "execution_count": 90,
   "metadata": {},
   "outputs": [
    {
     "data": {
      "text/plain": [
       "(98, 6)"
      ]
     },
     "execution_count": 90,
     "metadata": {},
     "output_type": "execute_result"
    }
   ],
   "source": [
    "n = 2\n",
    "amostras = len(y)\n",
    "Phi = np.column_stack((y[n-2:amostras-2],y[n-1:amostras-1],y[n:],u[n-2:amostras-2],u[n-1:amostras-1],u[n:]))\n",
    "Phi.shape"
   ]
  },
  {
   "cell_type": "code",
   "execution_count": 96,
   "metadata": {},
   "outputs": [
    {
     "data": {
      "text/plain": [
       "1.1813156993636237e-18"
      ]
     },
     "execution_count": 96,
     "metadata": {},
     "output_type": "execute_result"
    }
   ],
   "source": [
    "theta = np.linalg.inv(Phi.T.dot(Phi)).dot(Phi.T).dot(y[n:])\n",
    "y_hat = np.sum(Phi*theta.T,axis=1)\n",
    "np.sum((y_hat-y[n:])**2)"
   ]
  },
  {
   "cell_type": "code",
   "execution_count": 97,
   "metadata": {},
   "outputs": [],
   "source": [
    "def lsqrt_memoria(n, u, y):\n",
    "    amostras = len(u)\n",
    "    M = np.column_stack((y[n-2:amostras-2],y[n-1:amostras-1],y[n:],u[n-2:amostras-2],u[n-1:amostras-1],u[n:]))\n",
    "    y = np.array(y)\n",
    "    theta = np.linalg.inv(M.T.dot(M)).dot(M.T).dot(y[n:])\n",
    "    y_hat = np.sum(M*theta.T,axis=1)\n",
    "    return y_hat"
   ]
  },
  {
   "cell_type": "code",
   "execution_count": 100,
   "metadata": {},
   "outputs": [
    {
     "name": "stdout",
     "output_type": "stream",
     "text": [
      "(98, 6)\n"
     ]
    },
    {
     "data": {
      "text/plain": [
       "1.1813156993636237e-18"
      ]
     },
     "execution_count": 100,
     "metadata": {},
     "output_type": "execute_result"
    }
   ],
   "source": [
    "y_hat = lsqrt_memoria(2,u,y)\n",
    "np.sum((y[n:]-y_hat)**2)"
   ]
  },
  {
   "cell_type": "code",
   "execution_count": null,
   "metadata": {},
   "outputs": [],
   "source": []
  }
 ],
 "metadata": {
  "kernelspec": {
   "display_name": "Python 3.10.5 64-bit ('3.10.5')",
   "language": "python",
   "name": "python3"
  },
  "language_info": {
   "codemirror_mode": {
    "name": "ipython",
    "version": 3
   },
   "file_extension": ".py",
   "mimetype": "text/x-python",
   "name": "python",
   "nbconvert_exporter": "python",
   "pygments_lexer": "ipython3",
   "version": "3.10.5"
  },
  "orig_nbformat": 4,
  "vscode": {
   "interpreter": {
    "hash": "c0c1d9c1c10e933828abc112465bca4cddce3b9bfd87b406c99f21af5b401c8b"
   }
  }
 },
 "nbformat": 4,
 "nbformat_minor": 2
}
