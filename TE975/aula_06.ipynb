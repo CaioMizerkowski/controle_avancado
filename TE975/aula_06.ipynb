{
 "cells": [
  {
   "cell_type": "markdown",
   "metadata": {},
   "source": [
    "# Modelos não-lineares\n",
    "## Serie de Volterra\n",
    "Generalização da série de MacLauren.\n",
    "\n",
    "Equação num formato muito loko, com somatório de integrais de produtorios. Na qual existe *u* vezes *u* em outros momentos do tempo, não possuindo memória da saída. Para fazer com memória da saída, fazer ARX+Volterra.\n",
    "- AR-Volterra: Série de taylor com memória: u*u\n",
    "- Bilinear: u*y\n",
    "- Hammerstein: Sistema linear seguido por um linear. Por exemplo, treina uma rede neural (não-linear) e depois adiciona o linear recebendo como entrada o residuo para compensar.\n",
    "- Mimo: Teoria no espaço de estados.\n",
    "- Wiener: Altera a ordem dos modelos, linear e depois não-linear."
   ]
  },
  {
   "cell_type": "code",
   "execution_count": null,
   "metadata": {},
   "outputs": [],
   "source": []
  }
 ],
 "metadata": {
  "language_info": {
   "name": "python"
  },
  "orig_nbformat": 4
 },
 "nbformat": 4,
 "nbformat_minor": 2
}
