{
 "cells": [
  {
   "cell_type": "markdown",
   "metadata": {},
   "source": [
    "# Identificação\n",
    "Entrada e saída -> Obter um modelo para o problema de interesse. É um problema de otimização.\n",
    "\n",
    "``` Landaw - identificação em malha fechada ```\n",
    "\n",
    "ARMAX - Auto Regressiva (Y) Memory Average eXogena (U passados)\\\n",
    "Nested cross validation\\\n",
    "Daisy Identification\\\n",
    "Ljung - autor identificação\\\n",
    "Filtros FIR e IRR\\\n",
    "...\n"
   ]
  },
  {
   "cell_type": "code",
   "execution_count": 1,
   "metadata": {},
   "outputs": [],
   "source": [
    "from sympy import fourier_series, pi\n",
    "from sympy.abc import x\n",
    "s = fourier_series(x**2, (x, -pi, pi))"
   ]
  },
  {
   "cell_type": "code",
   "execution_count": 2,
   "metadata": {},
   "outputs": [
    {
     "data": {
      "text/latex": [
       "$\\displaystyle \\frac{\\cos{\\left(4 x \\right)}}{4}$"
      ],
      "text/plain": [
       "cos(4*x)/4"
      ]
     },
     "execution_count": 2,
     "metadata": {},
     "output_type": "execute_result"
    }
   ],
   "source": [
    "s.an[3]"
   ]
  },
  {
   "cell_type": "code",
   "execution_count": null,
   "metadata": {},
   "outputs": [],
   "source": []
  }
 ],
 "metadata": {
  "kernelspec": {
   "display_name": "Python 3.10.5 64-bit ('3.10.5')",
   "language": "python",
   "name": "python3"
  },
  "language_info": {
   "codemirror_mode": {
    "name": "ipython",
    "version": 3
   },
   "file_extension": ".py",
   "mimetype": "text/x-python",
   "name": "python",
   "nbconvert_exporter": "python",
   "pygments_lexer": "ipython3",
   "version": "3.10.5"
  },
  "orig_nbformat": 4,
  "vscode": {
   "interpreter": {
    "hash": "c0c1d9c1c10e933828abc112465bca4cddce3b9bfd87b406c99f21af5b401c8b"
   }
  }
 },
 "nbformat": 4,
 "nbformat_minor": 2
}
